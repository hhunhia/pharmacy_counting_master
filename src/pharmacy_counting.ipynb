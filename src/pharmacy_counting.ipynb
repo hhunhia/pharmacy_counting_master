{
 "cells": [
  {
   "cell_type": "code",
   "execution_count": 1,
   "metadata": {
    "collapsed": true
   },
   "outputs": [],
   "source": [
    "import os"
   ]
  },
  {
   "cell_type": "code",
   "execution_count": 2,
   "metadata": {
    "collapsed": true
   },
   "outputs": [],
   "source": [
    "# Read data\n",
    "def read_sort(path):\n",
    "    dic = {}\n",
    "    with open(path) as infile:\n",
    "        next(infile)\n",
    "        for line in infile:\n",
    "            currentline = line.split(\",\")            \n",
    "            drug_name = currentline[3]\n",
    "            drug_cost = float(currentline[4].replace('\\n',''))\n",
    "            prescriber_name = currentline[2] + currentline[1]\n",
    "            if drug_name not in dic:\n",
    "                dic[drug_name] = [set([prescriber_name]), drug_cost]\n",
    "            else:\n",
    "                if prescriber_name not in dic[drug_name][0]:\n",
    "                    dic[drug_name][0].add(prescriber_name)\n",
    "                dic[drug_name][1] += drug_cost   \n",
    "    printout = [ [k, len(v[0]), v[1]] for (k,v) in sorted(dic.items(), key=lambda d:d[1][1], reverse = True)]\n",
    "\n",
    "    return printout"
   ]
  },
  {
   "cell_type": "code",
   "execution_count": 3,
   "metadata": {
    "collapsed": true
   },
   "outputs": [],
   "source": [
    "def check_same_cost(printout):\n",
    "    cost_list = [i[2] for i in printout]\n",
    "    return len(cost_list) != len (set(cost_list))"
   ]
  },
  {
   "cell_type": "code",
   "execution_count": 4,
   "metadata": {
    "collapsed": true
   },
   "outputs": [],
   "source": [
    "def arrange_repeat(printout):\n",
    "    end = 0\n",
    "    for i in range(len(printout)):\n",
    "        total_cost = printout[i][2]\n",
    "\n",
    "        if (i+1 < len(printout) and total_cost == printout[i+1][2] and i >= end):\n",
    "            start, end = i, i\n",
    "            while (end != len(printout) and printout[end][2] == total_cost):\n",
    "                end += 1\n",
    "            printout[start:end] = [ k for k in sorted(printout[start:end], key=lambda d:d[0])]\n",
    "    return printout    "
   ]
  },
  {
   "cell_type": "code",
   "execution_count": 5,
   "metadata": {
    "collapsed": true
   },
   "outputs": [],
   "source": [
    "def print_text(path, printout):\n",
    "    if path == None or printout==None:\n",
    "        print(\"There is no result to write\")\n",
    "    file  = open(path, 'w')\n",
    "    file.writelines(\"drug_name,num_prescriber,total_cost\\n\")\n",
    "    for i in range(len(printout)):\n",
    "        file.writelines(str(printout[i][0]) + ',' + str(printout[i][1]) + ',' + str(printout[i][2]) + '\\n')            \n",
    "        "
   ]
  },
  {
   "cell_type": "code",
   "execution_count": 6,
   "metadata": {
    "collapsed": true
   },
   "outputs": [],
   "source": [
    "if __name__ == '__main__':\n",
    "    src_dir = os.getcwd()\n",
    "    master_dir = os.path.abspath(os.path.dirname(os.getcwd()))\n",
    "    for root, dirs, files in os.walk(master_dir + '/input'):\n",
    "        input_path_list = [master_dir + '/input/' + filename for filename in files]\n",
    "        output_path_list = [master_dir + '/output/' + filename for filename in files]\n",
    "        \n",
    "    for i in range(len(input_path_list)):\n",
    "        printout = read_sort(input_path_list[i])\n",
    "        if check_same_cost(printout):\n",
    "            printout = arrange_repeat(printout)\n",
    "        print_text(output_path_list[i],printout)\n",
    "            "
   ]
  }
 ],
 "metadata": {
  "kernelspec": {
   "display_name": "Python [conda env:py37]",
   "language": "python",
   "name": "conda-env-py37-py"
  },
  "language_info": {
   "codemirror_mode": {
    "name": "ipython",
    "version": 3
   },
   "file_extension": ".py",
   "mimetype": "text/x-python",
   "name": "python",
   "nbconvert_exporter": "python",
   "pygments_lexer": "ipython3",
   "version": "3.7.1"
  }
 },
 "nbformat": 4,
 "nbformat_minor": 2
}
